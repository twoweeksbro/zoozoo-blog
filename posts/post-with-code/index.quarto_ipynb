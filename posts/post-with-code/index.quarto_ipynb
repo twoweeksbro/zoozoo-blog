{
  "cells": [
    {
      "cell_type": "markdown",
      "metadata": {},
      "source": [
        "---\n",
        "title: \"Palmer Penguins Analysis\"\n",
        "author: \"zoozoo\"\n",
        "date: \"2025-03-07\"\n",
        "categories: [news, code, analysis]\n",
        "image: \"lter_penguins.png\"\n",
        "---\n",
        "\n",
        "\n",
        "\n",
        "\n",
        "## 8조 (이주형, 이창혁, 정은주 )\n",
        "![](https://allisonhorst.github.io/palmerpenguins/reference/figures/lter_penguins.png)\n",
        "\n",
        "### 팔마 펭귄 데이터 불러오기 & 데이터 확인"
      ],
      "id": "20560729"
    },
    {
      "cell_type": "code",
      "metadata": {},
      "source": [
        "import numpy as np \n",
        "import pandas as pd \n",
        "from palmerpenguins import load_penguins\n",
        "penguins = load_penguins()\n",
        "# 전체 데이터 확인\n",
        "penguins.info()\n",
        "# penguins 데이터 columns 이름"
      ],
      "id": "c63275ca",
      "execution_count": null,
      "outputs": []
    },
    {
      "cell_type": "markdown",
      "metadata": {},
      "source": [
        "<br>\n",
        "\n",
        "### 필요 없는 column 제거"
      ],
      "id": "d757e903"
    },
    {
      "cell_type": "code",
      "metadata": {},
      "source": [
        "print(penguins['year'].unique())\n",
        "print('-'*50,'\\n')\n",
        "del penguins['year']\n",
        "print(penguins.head())"
      ],
      "id": "5b1b3715",
      "execution_count": null,
      "outputs": []
    },
    {
      "cell_type": "markdown",
      "metadata": {},
      "source": [
        "* year 컬럼이 2007~2009 범위로 분포에 있어 분석에 도움되지 않는 column이라 생각\n",
        "<br>\n",
        "\n",
        "### 종 별 수치 정보"
      ],
      "id": "d7b84e0c"
    },
    {
      "cell_type": "code",
      "metadata": {},
      "source": [
        "ade_desc = penguins.loc[penguins['species'] == 'Adelie'].describe()\n",
        "gen_desc = penguins.loc[penguins['species'] == 'Gentoo'].describe()\n",
        "chin_desc = penguins.loc[penguins['species'] == 'Chinstrap'].describe()\n",
        "\n",
        "ade_mean = ade_desc.loc['mean']\n",
        "gen_mean = gen_desc.loc['mean']\n",
        "chin_mean = chin_desc.loc['mean']\n",
        "\n",
        "peng_mean = pd.concat([ade_mean, gen_mean, chin_mean], axis=1)\n",
        "peng_mean.columns= ['Adelie', 'Gentoo', 'Chinstrap']\n",
        "peng_mean"
      ],
      "id": "e2c9396f",
      "execution_count": null,
      "outputs": []
    },
    {
      "cell_type": "markdown",
      "metadata": {},
      "source": [
        "- 알 수 있는 점\n",
        "    - Adelie\n",
        "        - Adelie 종은 bill_length_mm의 평균이 38.79로 가장 짧은 편이다. \n",
        "    - Gentoo\n",
        "        - Gentoo 종은 body_mass_g의 평균이 5076.01로 가장 무겁다.\n",
        "        - flipper_length_mm의 길이의 평균이 217.18로 가장 길다. \n",
        "    - Chinstrap\n",
        "        - 수치 데이터로 뚜렷한 특징을 찾을 수 없다. \n",
        "        - 굳이 꼽자면 데이터수가 가장 적다. 희귀한가????\n",
        "            - 두 가지 가능성 : \n",
        "                - dream 섬에서 조사를 많이 하지 않았다. \n",
        "                - chinstrap 종의 펭귄의 개체 수가 적다. \n",
        "<br>\n",
        "\n",
        "### 성별 파악"
      ],
      "id": "43ef5334"
    },
    {
      "cell_type": "code",
      "metadata": {},
      "source": [
        "adelie_sex = penguins.loc[penguins['species'] == 'Adelie', 'sex'].value_counts()\n",
        "gentoo_sex = penguins.loc[penguins['species'] == 'Gentoo', 'sex'].value_counts()\n",
        "chinstrap_sex = penguins.loc[penguins['species'] == 'Chinstrap', 'sex'].value_counts()\n",
        "\n",
        "total_sex = pd.concat([adelie_sex,gentoo_sex,chinstrap_sex],axis=1)\n",
        "total_sex.columns= ['adelie','gentoo','chinstrap']\n",
        "total_sex"
      ],
      "id": "ad57dd12",
      "execution_count": null,
      "outputs": []
    },
    {
      "cell_type": "markdown",
      "metadata": {},
      "source": [
        "<br>\n",
        "\n",
        "### 서식지 파악"
      ],
      "id": "b08aba0d"
    },
    {
      "cell_type": "code",
      "metadata": {},
      "source": [
        "adelie_island = penguins.loc[penguins['species'] == 'Adelie', 'island'].value_counts()\n",
        "# Adelie 종은 Dream, Torgersen, Biscoe 섬에 고루 서식한다.\n",
        "\n",
        "gentoo_island = penguins.loc[penguins['species'] == 'Gentoo', 'island'].value_counts()\n",
        "# Gentoo 종은 Biscoe 섬에만 서식한다.\n",
        "\n",
        "chinstrap_island = penguins.loc[penguins['species'] == 'Chinstrap', 'island'].value_counts()\n",
        "# Chinstrap 종은 Dream  섬에만 서식한다.\n",
        "\n",
        "total_island = pd.concat([adelie_island,gentoo_island,chinstrap_island],axis=1)\n",
        "total_island.columns= ['adelie','gentoo','chinstrap']\n",
        "total_island = total_island.fillna(0)\n",
        "total_island"
      ],
      "id": "c7c79350",
      "execution_count": null,
      "outputs": []
    },
    {
      "cell_type": "markdown",
      "metadata": {},
      "source": [
        "- adelie 한 종만 3곳의의 island에 서식하고 있음 \n",
        "\n",
        "<br>\n",
        "\n",
        "### adelie 종에 대한 서식지 별 수치 정보 "
      ],
      "id": "ca5e7428"
    },
    {
      "cell_type": "code",
      "metadata": {},
      "source": [
        "ade_desc =penguins.loc[(penguins['species'] == 'Adelie') & (penguins['island']=='Dream')].describe()\n",
        "\n",
        "gen_desc =penguins.loc[(penguins['species'] == 'Adelie') & (penguins['island']=='Torgersen')].describe()\n",
        "\n",
        "chin_desc = penguins.loc[(penguins['species'] == 'Adelie') & (penguins['island']=='Biscoe')].describe()\n",
        "\n",
        "ade_mean = ade_desc.loc['mean']\n",
        "gen_mean = gen_desc.loc['mean']\n",
        "chin_mean = chin_desc.loc['mean']\n",
        "\n",
        "peng_mean = pd.concat([ade_mean, gen_mean, chin_mean], axis=1)\n",
        "peng_mean.columns= ['Dream', 'Torgersen', 'Biscoe']\n",
        "peng_mean"
      ],
      "id": "d1db4b38",
      "execution_count": null,
      "outputs": []
    },
    {
      "cell_type": "markdown",
      "metadata": {},
      "source": [
        "- 서식지 별로 큰 차이는 보이지 않음\n",
        "<br>\n",
        "\n",
        "### 요약\n",
        "- adelie\n",
        "    - Adelie 종의 bill_length_mm가 가장 짧은 편이다. \n",
        "    - Adelie 종은 Dream, Torgersen, Biscoe 섬에 고루 서식한다.\n",
        "\n",
        "- Gentoo\n",
        "\n",
        "    - Gentoo 종의 body_mass_g는 가장 무거운 편이다.\n",
        "    - Gentoo 종의 flipper_length_mm의 길이의 평균이 가장 길다. \n",
        "    - Gentoo 종은 Biscoe 섬에만 서식한다.\n",
        "\n",
        "- Chinstrap\n",
        "    -  Chinstrap 종은 수치 데이터로 뚜렷한 특징을 찾을 수 없다. \n",
        "    -  Chinstrap 종은 Dream  섬에만 서식한다.\n",
        "\n",
        "- 전체\n",
        "    - 종별 성별은 고르게 분포되어 있다."
      ],
      "id": "0c418873"
    }
  ],
  "metadata": {
    "kernelspec": {
      "name": "lsbigdata-project1",
      "language": "python",
      "display_name": "lsbigdata-project1",
      "path": "C:\\Users\\USER\\AppData\\Roaming\\jupyter\\kernels\\lsbigdata-project1"
    }
  },
  "nbformat": 4,
  "nbformat_minor": 5
}