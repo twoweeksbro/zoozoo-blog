{
  "cells": [
    {
      "cell_type": "markdown",
      "metadata": {},
      "source": [
        "---\n",
        "title: \"나의 첫 블로그 포스트\"\n",
        "author: \"zoozoo\"\n",
        "date: \"2025-03-07\"\n",
        "categories: [python, pandas, numpy]\n",
        "image: \"image.jpg\"\n",
        "---\n",
        "\n",
        "\n",
        "## 파이썬 데이터 분석\n",
        "\n",
        "### 넘파이\n",
        "\n",
        "\n",
        "넘파이 패키지를 불러옵시다!\n"
      ],
      "id": "f9e9544e"
    },
    {
      "cell_type": "code",
      "metadata": {},
      "source": [
        "import numpy as np\n",
        "\n",
        "a = np.array([3, 2, 15])\n",
        "a"
      ],
      "id": "b6f22750",
      "execution_count": null,
      "outputs": []
    },
    {
      "cell_type": "markdown",
      "metadata": {},
      "source": [
        "### 판다스\n",
        "판다스 패키지를 불러옵시다!\n"
      ],
      "id": "b1cd101a"
    },
    {
      "cell_type": "code",
      "metadata": {},
      "source": [
        "import pandas as pd"
      ],
      "id": "5c99864b",
      "execution_count": null,
      "outputs": []
    }
  ],
  "metadata": {
    "kernelspec": {
      "name": "lsbigdata-project1",
      "language": "python",
      "display_name": "lsbigdata-project1",
      "path": "C:\\Users\\USER\\AppData\\Roaming\\jupyter\\kernels\\lsbigdata-project1"
    }
  },
  "nbformat": 4,
  "nbformat_minor": 5
}